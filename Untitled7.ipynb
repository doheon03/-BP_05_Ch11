{
  "nbformat": 4,
  "nbformat_minor": 0,
  "metadata": {
    "colab": {
      "provenance": [],
      "authorship_tag": "ABX9TyPFdiw5VV3beuJMiLlhMAJd",
      "include_colab_link": true
    },
    "kernelspec": {
      "name": "python3",
      "display_name": "Python 3"
    },
    "language_info": {
      "name": "python"
    }
  },
  "cells": [
    {
      "cell_type": "markdown",
      "metadata": {
        "id": "view-in-github",
        "colab_type": "text"
      },
      "source": [
        "<a href=\"https://colab.research.google.com/github/doheon03/-BP_05_Ch11/blob/main/Untitled7.ipynb\" target=\"_parent\"><img src=\"https://colab.research.google.com/assets/colab-badge.svg\" alt=\"Open In Colab\"/></a>"
      ]
    },
    {
      "cell_type": "markdown",
      "source": [
        "1.사용자가 입력한 텍스트 파일을 열어서 파일 안에 글자가 몇개나 있는지를 계산하는 프로그램을 작성하라."
      ],
      "metadata": {
        "id": "Y2Z0DtZ7MgOS"
      }
    },
    {
      "cell_type": "code",
      "source": [],
      "metadata": {
        "id": "DcjYTH6aMoea"
      },
      "execution_count": null,
      "outputs": []
    },
    {
      "cell_type": "markdown",
      "source": [
        "2.사용자로부터 파일 이름과 삭제할 문자열을 입력받는다.파일을 열어서 사용자가 원하는 문자열을 삭제한 후에 다시 파일에 쓴다."
      ],
      "metadata": {
        "id": "SxVHd_kQMo46"
      }
    },
    {
      "cell_type": "code",
      "source": [],
      "metadata": {
        "id": "ILJRcgQ6MzXQ"
      },
      "execution_count": null,
      "outputs": []
    },
    {
      "cell_type": "markdown",
      "source": [
        "3.사용자가 입력하는 파일에 있는 각 문자들이 나타내는 빈도를 계산하는 프로그램을 작성하라."
      ],
      "metadata": {
        "id": "osGkG1bzMzm4"
      }
    },
    {
      "cell_type": "code",
      "source": [],
      "metadata": {
        "id": "DtJro9KwM6ME"
      },
      "execution_count": null,
      "outputs": []
    },
    {
      "cell_type": "markdown",
      "source": [
        "4.파이썬에서는 객체를 파일에 저장할수 있다. pickle 모듈을 사용하여서 정수 12,실수 3.14,리스트[1,2,3,4,5]를 이진파일 \"test.dat\"에 저장하였다가 다시 읽는 프로그램을 작성하고 테스트하라."
      ],
      "metadata": {
        "id": "3eJpQ10fM6b0"
      }
    },
    {
      "cell_type": "code",
      "source": [],
      "metadata": {
        "id": "bc0AfzXhNMCO"
      },
      "execution_count": null,
      "outputs": []
    },
    {
      "cell_type": "markdown",
      "source": [
        "5.텍스트 파일 \"data.txt\"에 실수값들이 저장되어 있다고 가정하자.한줄에 하나의 실수만 저장되어 있다.예를 들면 다음과 같다\n",
        "23.0\n",
        "51.0\n",
        "68.5\n",
        "82.9\n",
        "103.2\n",
        "\n",
        "이 파일을 읽어서 합계와 평균을 계산한 후에 이것을 \"output.txt\"파일에 다음과 같이 저장하는 프로그램을 작성하라.\n",
        "\n",
        "합계 = 328.6\n",
        "평균 = 65.72\n",
        "\n",
        "line = infile.readline()"
      ],
      "metadata": {
        "id": "A0aiIWF3NMSv"
      }
    },
    {
      "cell_type": "code",
      "source": [],
      "metadata": {
        "id": "tSjayo59N17c"
      },
      "execution_count": null,
      "outputs": []
    },
    {
      "cell_type": "markdown",
      "source": [
        "6.tkinter를 사용하여 다음과 같은 사용자 인터페이스를 만든다. \"추가\"버튼을 누르면 사용자가 입력한 이름과 전화번호 리스트가 파일 \"phone_book.dat\"에 저장된다.\"파일 읽기\"를 누르면 파일 \"phone_book.dat\"에서 이름과 전화번호를 읽어오는 프로그램을 작성하라."
      ],
      "metadata": {
        "id": "8WsgS25XN29M"
      }
    },
    {
      "cell_type": "code",
      "source": [],
      "metadata": {
        "id": "jHTSZEQUON_E"
      },
      "execution_count": null,
      "outputs": []
    }
  ]
}